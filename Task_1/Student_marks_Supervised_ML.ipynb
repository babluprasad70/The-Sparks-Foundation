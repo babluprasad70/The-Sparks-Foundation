{
  "cells": [
    {
      "cell_type": "markdown",
      "metadata": {
        "id": "rjMAKzI45EAJ"
      },
      "source": [
        "##@GRIPAPRIL2023: The Sparks Foundation\n",
        "\n",
        "\n",
        "###Author : BABLU PRASAD"
      ]
    },
    {
      "cell_type": "markdown",
      "source": [
        "###TASK 1 : Prediction using Supervised ML"
      ],
      "metadata": {
        "id": "rrqgl8pPArWo"
      }
    },
    {
      "cell_type": "markdown",
      "source": [
        "To Predict the percentage of marks of the students based on the number of hours they studied\n",
        "\n",
        "Dataset used: http://bit.ly/w-data"
      ],
      "metadata": {
        "id": "niYfFq_NvmvM"
      }
    },
    {
      "cell_type": "code",
      "execution_count": 1,
      "metadata": {
        "id": "Irht_l2ovgW0"
      },
      "outputs": [],
      "source": [
        "# importing the required libraries\n",
        "import pandas as pd\n",
        "import numpy as np\n",
        "import matplotlib.pyplot as plt \n",
        "import seaborn as sns\n",
        "from sklearn.model_selection import train_test_split\n",
        "from sklearn.linear_model import LinearRegression\n",
        "from sklearn.metrics import mean_absolute_error\n",
        "from sklearn.metrics import r2_score"
      ]
    },
    {
      "cell_type": "code",
      "execution_count": 2,
      "metadata": {
        "colab": {
          "base_uri": "https://localhost:8080/",
          "height": 363
        },
        "id": "Hui5plCZ5JEL",
        "outputId": "9b929e64-5a95-44da-a434-1fee1663e1a5"
      },
      "outputs": [
        {
          "output_type": "execute_result",
          "data": {
            "text/plain": [
              "   Hours  Scores\n",
              "0    2.5      21\n",
              "1    5.1      47\n",
              "2    3.2      27\n",
              "3    8.5      75\n",
              "4    3.5      30\n",
              "5    1.5      20\n",
              "6    9.2      88\n",
              "7    5.5      60\n",
              "8    8.3      81\n",
              "9    2.7      25"
            ],
            "text/html": [
              "\n",
              "  <div id=\"df-d2435dda-6d49-4819-b1a3-7498476bb10c\">\n",
              "    <div class=\"colab-df-container\">\n",
              "      <div>\n",
              "<style scoped>\n",
              "    .dataframe tbody tr th:only-of-type {\n",
              "        vertical-align: middle;\n",
              "    }\n",
              "\n",
              "    .dataframe tbody tr th {\n",
              "        vertical-align: top;\n",
              "    }\n",
              "\n",
              "    .dataframe thead th {\n",
              "        text-align: right;\n",
              "    }\n",
              "</style>\n",
              "<table border=\"1\" class=\"dataframe\">\n",
              "  <thead>\n",
              "    <tr style=\"text-align: right;\">\n",
              "      <th></th>\n",
              "      <th>Hours</th>\n",
              "      <th>Scores</th>\n",
              "    </tr>\n",
              "  </thead>\n",
              "  <tbody>\n",
              "    <tr>\n",
              "      <th>0</th>\n",
              "      <td>2.5</td>\n",
              "      <td>21</td>\n",
              "    </tr>\n",
              "    <tr>\n",
              "      <th>1</th>\n",
              "      <td>5.1</td>\n",
              "      <td>47</td>\n",
              "    </tr>\n",
              "    <tr>\n",
              "      <th>2</th>\n",
              "      <td>3.2</td>\n",
              "      <td>27</td>\n",
              "    </tr>\n",
              "    <tr>\n",
              "      <th>3</th>\n",
              "      <td>8.5</td>\n",
              "      <td>75</td>\n",
              "    </tr>\n",
              "    <tr>\n",
              "      <th>4</th>\n",
              "      <td>3.5</td>\n",
              "      <td>30</td>\n",
              "    </tr>\n",
              "    <tr>\n",
              "      <th>5</th>\n",
              "      <td>1.5</td>\n",
              "      <td>20</td>\n",
              "    </tr>\n",
              "    <tr>\n",
              "      <th>6</th>\n",
              "      <td>9.2</td>\n",
              "      <td>88</td>\n",
              "    </tr>\n",
              "    <tr>\n",
              "      <th>7</th>\n",
              "      <td>5.5</td>\n",
              "      <td>60</td>\n",
              "    </tr>\n",
              "    <tr>\n",
              "      <th>8</th>\n",
              "      <td>8.3</td>\n",
              "      <td>81</td>\n",
              "    </tr>\n",
              "    <tr>\n",
              "      <th>9</th>\n",
              "      <td>2.7</td>\n",
              "      <td>25</td>\n",
              "    </tr>\n",
              "  </tbody>\n",
              "</table>\n",
              "</div>\n",
              "      <button class=\"colab-df-convert\" onclick=\"convertToInteractive('df-d2435dda-6d49-4819-b1a3-7498476bb10c')\"\n",
              "              title=\"Convert this dataframe to an interactive table.\"\n",
              "              style=\"display:none;\">\n",
              "        \n",
              "  <svg xmlns=\"http://www.w3.org/2000/svg\" height=\"24px\"viewBox=\"0 0 24 24\"\n",
              "       width=\"24px\">\n",
              "    <path d=\"M0 0h24v24H0V0z\" fill=\"none\"/>\n",
              "    <path d=\"M18.56 5.44l.94 2.06.94-2.06 2.06-.94-2.06-.94-.94-2.06-.94 2.06-2.06.94zm-11 1L8.5 8.5l.94-2.06 2.06-.94-2.06-.94L8.5 2.5l-.94 2.06-2.06.94zm10 10l.94 2.06.94-2.06 2.06-.94-2.06-.94-.94-2.06-.94 2.06-2.06.94z\"/><path d=\"M17.41 7.96l-1.37-1.37c-.4-.4-.92-.59-1.43-.59-.52 0-1.04.2-1.43.59L10.3 9.45l-7.72 7.72c-.78.78-.78 2.05 0 2.83L4 21.41c.39.39.9.59 1.41.59.51 0 1.02-.2 1.41-.59l7.78-7.78 2.81-2.81c.8-.78.8-2.07 0-2.86zM5.41 20L4 18.59l7.72-7.72 1.47 1.35L5.41 20z\"/>\n",
              "  </svg>\n",
              "      </button>\n",
              "      \n",
              "  <style>\n",
              "    .colab-df-container {\n",
              "      display:flex;\n",
              "      flex-wrap:wrap;\n",
              "      gap: 12px;\n",
              "    }\n",
              "\n",
              "    .colab-df-convert {\n",
              "      background-color: #E8F0FE;\n",
              "      border: none;\n",
              "      border-radius: 50%;\n",
              "      cursor: pointer;\n",
              "      display: none;\n",
              "      fill: #1967D2;\n",
              "      height: 32px;\n",
              "      padding: 0 0 0 0;\n",
              "      width: 32px;\n",
              "    }\n",
              "\n",
              "    .colab-df-convert:hover {\n",
              "      background-color: #E2EBFA;\n",
              "      box-shadow: 0px 1px 2px rgba(60, 64, 67, 0.3), 0px 1px 3px 1px rgba(60, 64, 67, 0.15);\n",
              "      fill: #174EA6;\n",
              "    }\n",
              "\n",
              "    [theme=dark] .colab-df-convert {\n",
              "      background-color: #3B4455;\n",
              "      fill: #D2E3FC;\n",
              "    }\n",
              "\n",
              "    [theme=dark] .colab-df-convert:hover {\n",
              "      background-color: #434B5C;\n",
              "      box-shadow: 0px 1px 3px 1px rgba(0, 0, 0, 0.15);\n",
              "      filter: drop-shadow(0px 1px 2px rgba(0, 0, 0, 0.3));\n",
              "      fill: #FFFFFF;\n",
              "    }\n",
              "  </style>\n",
              "\n",
              "      <script>\n",
              "        const buttonEl =\n",
              "          document.querySelector('#df-d2435dda-6d49-4819-b1a3-7498476bb10c button.colab-df-convert');\n",
              "        buttonEl.style.display =\n",
              "          google.colab.kernel.accessAllowed ? 'block' : 'none';\n",
              "\n",
              "        async function convertToInteractive(key) {\n",
              "          const element = document.querySelector('#df-d2435dda-6d49-4819-b1a3-7498476bb10c');\n",
              "          const dataTable =\n",
              "            await google.colab.kernel.invokeFunction('convertToInteractive',\n",
              "                                                     [key], {});\n",
              "          if (!dataTable) return;\n",
              "\n",
              "          const docLinkHtml = 'Like what you see? Visit the ' +\n",
              "            '<a target=\"_blank\" href=https://colab.research.google.com/notebooks/data_table.ipynb>data table notebook</a>'\n",
              "            + ' to learn more about interactive tables.';\n",
              "          element.innerHTML = '';\n",
              "          dataTable['output_type'] = 'display_data';\n",
              "          await google.colab.output.renderOutput(dataTable, element);\n",
              "          const docLink = document.createElement('div');\n",
              "          docLink.innerHTML = docLinkHtml;\n",
              "          element.appendChild(docLink);\n",
              "        }\n",
              "      </script>\n",
              "    </div>\n",
              "  </div>\n",
              "  "
            ]
          },
          "metadata": {},
          "execution_count": 2
        }
      ],
      "source": [
        "# reading csv file \n",
        "data = pd.read_csv ('/content/Student_data.csv')\n",
        "\n",
        "# display sample data read from provided data set\n",
        "data.head(10)"
      ]
    },
    {
      "cell_type": "code",
      "source": [
        "# Check if there any null value in the Dataset\n",
        "data.isnull == True"
      ],
      "metadata": {
        "colab": {
          "base_uri": "https://localhost:8080/"
        },
        "id": "dqdeV26VxqHB",
        "outputId": "78ee4dc5-3288-42a6-9318-51dc94eeabbd"
      },
      "execution_count": 3,
      "outputs": [
        {
          "output_type": "execute_result",
          "data": {
            "text/plain": [
              "False"
            ]
          },
          "metadata": {},
          "execution_count": 3
        }
      ]
    },
    {
      "cell_type": "markdown",
      "source": [
        "**Visualization the Data**"
      ],
      "metadata": {
        "id": "vjeO2n1nx2CB"
      }
    },
    {
      "cell_type": "code",
      "execution_count": 4,
      "metadata": {
        "colab": {
          "base_uri": "https://localhost:8080/",
          "height": 484
        },
        "id": "ISK4NG8u6G1Z",
        "outputId": "4762930d-a754-474a-b914-1669f58972ce"
      },
      "outputs": [
        {
          "output_type": "display_data",
          "data": {
            "text/plain": [
              "<Figure size 640x480 with 1 Axes>"
            ],
            "image/png": "[encoded data removed]"
          },
          "metadata": {}
        }
      ],
      "source": [
        "# Set the style theme of the graph plot\n",
        "sns.set_style('darkgrid')\n",
        "\n",
        "# Provide the data from the sample data to the x and y axes for a scatter plot graph\n",
        "sns.scatterplot(y= data['Scores'], x= data['Hours'],c='blue')\n",
        "\n",
        "# Set the graph title\n",
        "plt.title('Scored Marks Vs Study Hours',size=20)\n",
        "\n",
        "# Set the y-axis label \n",
        "plt.ylabel('Marks Scored', size=13)\n",
        "\n",
        "# Set the x-axis label\n",
        "plt.xlabel('Hours Studied', size=13)\n",
        "\n",
        "# Display the graph\n",
        "plt.show()"
      ]
    },
    {
      "cell_type": "code",
      "execution_count": 5,
      "metadata": {
        "colab": {
          "base_uri": "https://localhost:8080/",
          "height": 573
        },
        "id": "PtK1Hm6n9H2y",
        "outputId": "4b4043f7-a3ef-47a9-83b7-6aea5f36a0b9"
      },
      "outputs": [
        {
          "output_type": "display_data",
          "data": {
            "text/plain": [
              "<Figure size 640x480 with 1 Axes>"
            ],
            "image/png": "[encoded data removed]"
          },
          "metadata": {}
        },
        {
          "output_type": "stream",
          "name": "stdout",
          "text": [
            "\n",
            "\n",
            "           Hours    Scores\n",
            "Hours   1.000000  0.976191\n",
            "Scores  0.976191  1.000000\n"
          ]
        }
      ],
      "source": [
        "# Provide the data from the sample data to the x and y axes for a regression plot graph\n",
        "sns.regplot(x= data['Hours'], y= data['Scores'],color='blue')\n",
        "\n",
        "# Set the graph title with 20 font size\n",
        "plt.title('Scored Marks Vs Study Hours',size=20)\n",
        "\n",
        "# Set the y-axis label with 13 font size\n",
        "plt.ylabel('Marks Scored', size=13)\n",
        "\n",
        "# Set the x-axis label with 13 font size\n",
        "plt.xlabel('Hours Studied', size=13)\n",
        "\n",
        "# Display the graph\n",
        "plt.show()\n",
        "\n",
        "print(\"\\n\")\n",
        "\n",
        "# Display the correlation in the sample data\n",
        "print(data.corr())"
      ]
    },
    {
      "cell_type": "markdown",
      "source": [
        "Note: Variables are positively correlated."
      ],
      "metadata": {
        "id": "x5bgS7203OUg"
      }
    },
    {
      "cell_type": "markdown",
      "source": [
        "###Training the Model\n"
      ],
      "metadata": {
        "id": "5WBzq_Yi3YHX"
      }
    },
    {
      "cell_type": "markdown",
      "source": [
        "**1) Splitting the Data**"
      ],
      "metadata": {
        "id": "IbG5YKns3g5p"
      }
    },
    {
      "cell_type": "code",
      "execution_count": 6,
      "metadata": {
        "id": "eQIPACmX-wyD",
        "colab": {
          "base_uri": "https://localhost:8080/"
        },
        "outputId": "36ceef7e-cb5d-4278-a339-b4d4769d1865"
      },
      "outputs": [
        {
          "output_type": "stream",
          "name": "stdout",
          "text": [
            "X_train shape (18, 1) \n",
            "y_train shape (18,) \n",
            "X_test shape (7, 1) \n",
            "y_test shape (7,)\n"
          ]
        }
      ],
      "source": [
        "# Extract Hours (independent) column values from the data\n",
        "X = data.iloc[:, :-1].values\n",
        "\n",
        "# Extract Marks (dependent) column values from the data\n",
        "y = data.iloc[:, 1].values\n",
        "\n",
        "# Split the Data into training and testing data\n",
        "train_X, test_X, train_y, test_y = train_test_split(X, y, random_state = 0)\n",
        "\n",
        "# Checking shapes of the splits.\n",
        "print(\"X_train shape\",train_X.shape, \"\\ny_train shape\", train_y.shape, \"\\nX_test shape\",test_X.shape, \"\\ny_test shape\",test_y.shape)"
      ]
    },
    {
      "cell_type": "markdown",
      "source": [
        "**2) Fitting the Data into the model**"
      ],
      "metadata": {
        "id": "VtqSgFl-32Ok"
      }
    },
    {
      "cell_type": "code",
      "execution_count": 7,
      "metadata": {
        "colab": {
          "base_uri": "https://localhost:8080/"
        },
        "id": "vX_oWzEG_Lxp",
        "outputId": "447b4fd3-e51a-4b24-c394-66554a453f20"
      },
      "outputs": [
        {
          "output_type": "stream",
          "name": "stdout",
          "text": [
            "--------Model Trained---------\n"
          ]
        }
      ],
      "source": [
        "# Create a linear regression model object\n",
        "regression = LinearRegression()\n",
        "\n",
        "# Provide training data for the model to learn\n",
        "regression.fit(train_X, train_y)\n",
        "print(\"--------Model Trained---------\")"
      ]
    },
    {
      "cell_type": "markdown",
      "source": [
        "###Predicting the Percentage of Marks"
      ],
      "metadata": {
        "id": "4W0w0OU24RV7"
      }
    },
    {
      "cell_type": "code",
      "execution_count": 8,
      "metadata": {
        "colab": {
          "base_uri": "https://localhost:8080/"
        },
        "id": "7G9plmcc_rGQ",
        "outputId": "429330ae-238e-4665-d625-d2acf3c83c32"
      },
      "outputs": [
        {
          "output_type": "stream",
          "name": "stdout",
          "text": [
            "   Hours  Predicted Marks\n",
            "0    1.5        16.844722\n",
            "1    3.2        33.745575\n",
            "2    7.4        75.500624\n",
            "3    2.5        26.786400\n",
            "4    5.9        60.588106\n",
            "5    3.8        39.710582\n",
            "6    1.9        20.821393\n"
          ]
        }
      ],
      "source": [
        "# prediction\n",
        "pred_y = regression.predict(test_X)\n",
        "\n",
        "# creating dataframe of predicted marks respect to study hour\n",
        "prediction = pd.DataFrame({'Hours': [i[0] for i in test_X], 'Predicted Marks': [m for m in pred_y]})\n",
        "print(prediction)"
      ]
    },
    {
      "cell_type": "markdown",
      "source": [
        "###Comparing the Predicted Marks with the Actual Marks"
      ],
      "metadata": {
        "id": "DZuQ4KYQ5mqo"
      }
    },
    {
      "cell_type": "code",
      "execution_count": 9,
      "metadata": {
        "colab": {
          "base_uri": "https://localhost:8080/",
          "height": 680
        },
        "id": "tetEN5P4ALwp",
        "outputId": "588d3113-03c8-4b1b-dc42-46a9ed355e3d"
      },
      "outputs": [
        {
          "output_type": "stream",
          "name": "stdout",
          "text": [
            "   Actual Marks  Predicted Marks\n",
            "0            20        16.844722\n",
            "1            27        33.745575\n",
            "2            69        75.500624\n",
            "3            30        26.786400\n",
            "4            62        60.588106\n",
            "5            35        39.710582\n",
            "6            24        20.821393\n",
            "\n",
            "\n",
            "\n"
          ]
        },
        {
          "output_type": "display_data",
          "data": {
            "text/plain": [
              "<Figure size 640x480 with 1 Axes>"
            ],
            "image/png": "[encoded data removed]"
          },
          "metadata": {}
        }
      ],
      "source": [
        "#creating dataframe of actual marks and predicted marks\n",
        "compare_scores = pd.DataFrame({'Actual Marks': test_y, 'Predicted Marks': pred_y})\n",
        "print(compare_scores)\n",
        "\n",
        "print(\"\\n\\n\")\n",
        "\n",
        "# scatter plot graph of test dataset\n",
        "plt.scatter(x=test_X, y=test_y, color='blue')\n",
        "\n",
        "# Plot graph of predicted value for hour of study\n",
        "plt.plot(test_X, pred_y, color='Black',linewidth=0.7)\n",
        "\n",
        "# Set the graph title \n",
        "plt.title('Actual vs Predicted', size=20)\n",
        "\n",
        "# Set the y-axis label\n",
        "plt.ylabel('Marks Scored', size=13)\n",
        "\n",
        "# Set the x-axis label \n",
        "plt.xlabel('Hours Studied', size=13)\n",
        "\n",
        "# Display the graph\n",
        "plt.show()\n"
      ]
    },
    {
      "cell_type": "markdown",
      "source": [
        "###Evaluating the Model"
      ],
      "metadata": {
        "id": "gZOmvYoP89CK"
      }
    },
    {
      "cell_type": "code",
      "execution_count": 10,
      "metadata": {
        "colab": {
          "base_uri": "https://localhost:8080/"
        },
        "id": "T92-5iB9CDWD",
        "outputId": "4deaa634-90a3-4ad4-ef92-59939c8a7e8f"
      },
      "outputs": [
        {
          "output_type": "stream",
          "name": "stdout",
          "text": [
            "R_square of the model Test 0.9367661043365056\n"
          ]
        }
      ],
      "source": [
        "# Calculating the accuracy of the model\n",
        "print(\"R_square of the model Test\", r2_score(test_y,pred_y))"
      ]
    },
    {
      "cell_type": "markdown",
      "source": [
        "* The near the value of R^2 score to 1 the better the model is."
      ],
      "metadata": {
        "id": "KDC9b4lEsCaR"
      }
    },
    {
      "cell_type": "code",
      "source": [
        "print(\"Mean Absolute Error of test\",mean_absolute_error(test_y,pred_y))"
      ],
      "metadata": {
        "id": "QtL8wLEusOkX",
        "colab": {
          "base_uri": "https://localhost:8080/"
        },
        "outputId": "bfa21c5d-02c7-48fd-abd0-85260d97f8b4"
      },
      "execution_count": 11,
      "outputs": [
        {
          "output_type": "stream",
          "name": "stdout",
          "text": [
            "Mean Absolute Error of test 4.130879918502482\n"
          ]
        }
      ]
    },
    {
      "cell_type": "markdown",
      "source": [
        "* Smaller the value of 'Mean Absolute Error'--> better the model\n",
        "\n"
      ],
      "metadata": {
        "id": "NJoaz81G9OsE"
      }
    },
    {
      "cell_type": "code",
      "source": [
        "print(\"Accuracy of model : \",regression.score(test_X,test_y)*100)"
      ],
      "metadata": {
        "colab": {
          "base_uri": "https://localhost:8080/"
        },
        "id": "ZBEhgGh4snM-",
        "outputId": "ab05b3f3-1210-44a8-ae9e-9bbda4e50007"
      },
      "execution_count": 12,
      "outputs": [
        {
          "output_type": "stream",
          "name": "stdout",
          "text": [
            "Accuracy of model :  93.67661043365057\n"
          ]
        }
      ]
    },
    {
      "cell_type": "markdown",
      "source": [
        "**Problem Statement(s) :**\n",
        "\n",
        "What will be the predicted score if a student studies for 9.25 hrs/ day?"
      ],
      "metadata": {
        "id": "JJHfPEnC9UBe"
      }
    },
    {
      "cell_type": "code",
      "source": [
        "hours = [9.25]\n",
        "answer = regression.predict([hours])\n",
        "print(\"Score = {}\".format(round(answer[0],3)))"
      ],
      "metadata": {
        "colab": {
          "base_uri": "https://localhost:8080/"
        },
        "id": "r__3u9oK9ajy",
        "outputId": "9c85a21d-25d2-4923-b365-444343d13730"
      },
      "execution_count": 13,
      "outputs": [
        {
          "output_type": "stream",
          "name": "stdout",
          "text": [
            "Score = 93.893\n"
          ]
        }
      ]
    }
  ],
  "metadata": {
    "colab": {
      "provenance": []
    },
    "kernelspec": {
      "display_name": "Python 3",
      "language": "python",
      "name": "python3"
    },
    "language_info": {
      "codemirror_mode": {
        "name": "ipython",
        "version": 3
      },
      "file_extension": ".py",
      "mimetype": "text/x-python",
      "name": "python",
      "nbconvert_exporter": "python",
      "pygments_lexer": "ipython3",
      "version": "3.8.3"
    }
  },
  "nbformat": 4,
  "nbformat_minor": 0
}